{
 "cells": [
  {
   "cell_type": "code",
   "execution_count": null,
   "id": "a5e8fbfe-6f28-4a96-91a1-f7ae53f35773",
   "metadata": {
    "tags": []
   },
   "outputs": [],
   "source": [
    "import call_log_parser\n",
    "\n",
    "calls = call_log_parser.load_calls(\"\")"
   ]
  },
  {
   "cell_type": "code",
   "execution_count": null,
   "id": "5417c7d2-ec1e-4b51-b4ec-467fba2b52a4",
   "metadata": {
    "tags": []
   },
   "outputs": [],
   "source": [
    "call_log_parser.describe(calls)"
   ]
  }
 ],
 "metadata": {
  "kernelspec": {
   "display_name": "Python 3 (ipykernel)",
   "language": "python",
   "name": "python3"
  },
  "language_info": {
   "codemirror_mode": {
    "name": "ipython",
    "version": 3
   },
   "file_extension": ".py",
   "mimetype": "text/x-python",
   "name": "python",
   "nbconvert_exporter": "python",
   "pygments_lexer": "ipython3",
   "version": "3.9.6"
  }
 },
 "nbformat": 4,
 "nbformat_minor": 5
}
